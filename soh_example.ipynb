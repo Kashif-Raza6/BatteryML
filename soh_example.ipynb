{
 "cells": [
  {
   "cell_type": "code",
   "execution_count": 1,
   "metadata": {},
   "outputs": [],
   "source": [
    "# Copyright (c) Microsoft Corporation.\n",
    "# Licensed under the MIT License.\n",
    "import sys\n",
    "from batteryml.pipeline import Pipeline\n",
    "from batteryml.visualization.plot_helper import plot_capacity_degradation, plot_cycle_attribute, plot_result\n",
    "\n",
    "%load_ext autoreload\n",
    "%autoreload 2"
   ]
  },
  {
   "cell_type": "markdown",
   "metadata": {},
   "source": [
    "# Extract SOH (State of Health) label from Cycle Capacity data"
   ]
  },
  {
   "cell_type": "markdown",
   "metadata": {},
   "source": [
    "## Create Pipeline"
   ]
  },
  {
   "cell_type": "code",
   "execution_count": null,
   "metadata": {},
   "outputs": [
    {
     "name": "stdout",
     "output_type": "stream",
     "text": [
      "workspaces\n"
     ]
    }
   ],
   "source": [
    "pipeline = Pipeline(config_path='configs/soh/dummy/matr_1.yaml',\n",
    "                    workspace='workspaces')"
   ]
  },
  {
   "cell_type": "markdown",
   "metadata": {},
   "source": [
    "## Train and evaluate"
   ]
  },
  {
   "cell_type": "code",
   "execution_count": 3,
   "metadata": {},
   "outputs": [
    {
     "name": "stdout",
     "output_type": "stream",
     "text": [
      "Seed is set to 0.\n"
     ]
    },
    {
     "name": "stderr",
     "output_type": "stream",
     "text": [
      "Reading train data: 100%|██████████| 41/41 [00:44<00:00,  1.09s/it]\n",
      "Reading test data: 100%|██████████| 42/42 [01:01<00:00,  1.48s/it]\n",
      "Extracting features: 100%|██████████| 41/41 [00:02<00:00, 18.22it/s]\n",
      "Extracting features: 100%|██████████| 42/42 [00:00<00:00, 1289.36it/s]\n"
     ]
    }
   ],
   "source": [
    "model, dataset = pipeline.train(device='cuda', skip_if_executed=False)"
   ]
  },
  {
   "cell_type": "code",
   "execution_count": null,
   "metadata": {},
   "outputs": [
    {
     "name": "stdout",
     "output_type": "stream",
     "text": [
      "RMSE: Train 0.032, test 0.026\n"
     ]
    }
   ],
   "source": [
    "# get train test loss\n",
    "train_prediction = model.predict(dataset, data_type='train')\n",
    "train_loss = dataset.evaluate(train_prediction, 'RMSE', data_type='train') \n",
    "test_prediction = model.predict(dataset, data_type='test')\n",
    "test_loss = dataset.evaluate(test_prediction, 'RMSE', data_type='test')\n",
    "print(f'RMSE: Train {train_loss:.3f}, test {test_loss:.3f}')"
   ]
  },
  {
   "cell_type": "code",
   "execution_count": 5,
   "metadata": {},
   "outputs": [
    {
     "name": "stdout",
     "output_type": "stream",
     "text": [
      "Seed is set to 0.\n",
      "{'RMSE': 0.026197524741292}\n"
     ]
    }
   ],
   "source": [
    "# just evaluate using pipeline\n",
    "pipeline.evaluate(model=model, dataset=dataset, skip_if_executed=False)"
   ]
  },
  {
   "cell_type": "markdown",
   "metadata": {},
   "source": [
    "# Extract SOH label from the SOH test file provided separately"
   ]
  },
  {
   "cell_type": "markdown",
   "metadata": {},
   "source": [
    "## generate example soh test file\n",
    "- We assume each battery cell undergoes a State of Health (SOH) test over 1000 cycles under standard conditions every 100 cycles. \n",
    "- The testing is performed at a controlled temperature, typically around 25°C, and utilizes a standardized discharge rate, such as C/2 or 1C.\n",
    "\n",
    "\n",
    "And example soh file like this:\n",
    "```\n",
    "{'cell1': {100: {'relative': 0.92,\n",
    "   'absolute': 1.01},\n",
    "  200: {'relative': 0.89, 'absolute': 0.98},\n",
    "  300: {'relative': 0.72, 'absolute': 0.80},\n",
    "  400: {'relative': 0.71, 'absolute': 0.78},\n",
    "  500: {'relative': 0.56, 'absolute': 0.62},\n",
    "  600: {'relative': 0.69, 'absolute': 0.76},\n",
    "  700: {'relative': 0.37, 'absolute': 0.40},\n",
    "  800: {'relative': 0.38, 'absolute': 0.41},\n",
    "  900: {'relative': 0.54, 'absolute': 0.59},\n",
    "  1000: {'relative': 0.47, 'absolute': 0.52}\n",
    "  },\n",
    "  'cell2': {...}\n",
    "  ...\n",
    "}\n",
    "\n",
    "```"
   ]
  },
  {
   "cell_type": "code",
   "execution_count": 4,
   "metadata": {},
   "outputs": [
    {
     "name": "stdout",
     "output_type": "stream",
     "text": [
      "[100, 200, 300, 400, 500, 600, 700, 800, 900, 1000]\n"
     ]
    }
   ],
   "source": [
    "# all cell_names in MATR1 dataset\n",
    "cell_names = [\n",
    "    'b1c1',  'b1c3',  'b1c5',  'b1c7',  'b1c11', 'b1c15',\n",
    "    'b1c17', 'b1c19', 'b1c21', 'b1c24', 'b1c26', 'b1c28',\n",
    "    'b1c30', 'b1c32', 'b1c34', 'b1c36', 'b1c38', 'b1c40',\n",
    "    'b1c42', 'b1c44', 'b2c0',  'b2c2',  'b2c4',  'b2c6',\n",
    "    'b2c11', 'b2c13', 'b2c17', 'b2c19', 'b2c21', 'b2c23',\n",
    "    'b2c25', 'b2c27', 'b2c29', 'b2c31', 'b2c33', 'b2c35',\n",
    "    'b2c37', 'b2c39', 'b2c41', 'b2c43', 'b2c45',\n",
    "\n",
    "    'b1c0',  'b1c2',  'b1c4',  'b1c6',  'b1c9',  'b1c14',\n",
    "    'b1c16', 'b1c18', 'b1c20', 'b1c23', 'b1c25', 'b1c27',\n",
    "    'b1c29', 'b1c31', 'b1c33', 'b1c35', 'b1c37', 'b1c39',\n",
    "    'b1c41', 'b1c43', 'b1c45', 'b2c1',  'b2c3',  'b2c5',\n",
    "    'b2c10', 'b2c12', 'b2c14', 'b2c18', 'b2c20', 'b2c22',\n",
    "    'b2c24', 'b2c26', 'b2c28', 'b2c30', 'b2c32', 'b2c34',\n",
    "    'b2c36', 'b2c38', 'b2c40', 'b2c42', 'b2c44', 'b2c46',\n",
    "    'b2c47'\n",
    "]\n",
    "\n",
    "# We assume each battery cell undergoes a State of Health (SOH) test over 1000 cycles under standard conditions every 100 cycles. \n",
    "# The testing is performed at a controlled temperature, typically around 25°C, and utilizes a standardized discharge rate, such as C/2 or 1C.\n",
    "import random\n",
    "soh_dict = {}\n",
    "cycles = [cycle for cycle in range(100, 1001, 100)]\n",
    "print(cycles)\n",
    "\n",
    "# Function to simulate SOH degradation\n",
    "def simulate_soh_degradation(start_soh, cycle):\n",
    "    degradation_rate = random.uniform(0.0005, 0.001)  # Random degradation rate per cycle\n",
    "    return max(start_soh - degradation_rate * cycle, 0)  # Ensure SOH doesn't go below 0\n",
    "\n",
    "# Generate SOH for each cell and each cycle\n",
    "for name in cell_names:\n",
    "    cell_name = f'MATR_{name}'\n",
    "    soh_dict[cell_name] = {}\n",
    "    start_soh = 1.0  # Assume starting SOH is 1.0\n",
    "    for cycle in cycles:\n",
    "        # soh_dict[cell_name][cycle] = {\"relative\": simulate_soh_degradation(start_soh, cycle)}\n",
    "        nominal_capacity = 1.1\n",
    "        relative_soh = simulate_soh_degradation(start_soh, cycle)\n",
    "        soh_dict[cell_name][cycle] = {\n",
    "            \"relative\": relative_soh,\n",
    "            \"absolute\": relative_soh * nominal_capacity\n",
    "        }\n",
    "\n",
    "import json\n",
    "# Save the SOH dictionary to a JSON file\n",
    "with open('data/example_soh_dict.json', 'w') as json_file:\n",
    "    json.dump(soh_dict, json_file, indent=4)\n"
   ]
  },
  {
   "cell_type": "markdown",
   "metadata": {},
   "source": [
    "## Create pipeline"
   ]
  },
  {
   "cell_type": "code",
   "execution_count": 6,
   "metadata": {},
   "outputs": [
    {
     "name": "stdout",
     "output_type": "stream",
     "text": [
      "workspaces\n"
     ]
    }
   ],
   "source": [
    "pipeline = Pipeline(config_path='configs/soh/dummy/matr_1_with_soh_filepath.yaml',\n",
    "                    workspace='workspaces')"
   ]
  },
  {
   "cell_type": "code",
   "execution_count": 7,
   "metadata": {},
   "outputs": [
    {
     "name": "stdout",
     "output_type": "stream",
     "text": [
      "Seed is set to 0.\n",
      "read soh file\n"
     ]
    },
    {
     "name": "stderr",
     "output_type": "stream",
     "text": [
      "Reading train data: 100%|██████████| 41/41 [00:49<00:00,  1.21s/it]\n",
      "Reading test data: 100%|██████████| 42/42 [00:57<00:00,  1.37s/it]\n",
      "Extracting features: 100%|██████████| 41/41 [00:00<00:00, 1256.44it/s]\n",
      "Extracting features: 100%|██████████| 42/42 [00:00<00:00, 1296.07it/s]\n"
     ]
    }
   ],
   "source": [
    "model, dataset = pipeline.train(device='cuda', skip_if_executed=False)"
   ]
  },
  {
   "cell_type": "code",
   "execution_count": null,
   "metadata": {},
   "outputs": [
    {
     "name": "stdout",
     "output_type": "stream",
     "text": [
      "RMSE: Train 0.046, test 0.043\n"
     ]
    }
   ],
   "source": [
    "# get train test loss\n",
    "train_prediction = model.predict(dataset, data_type='train')\n",
    "train_loss = dataset.evaluate(train_prediction, 'RMSE', data_type='train') \n",
    "test_prediction = model.predict(dataset, data_type='test')\n",
    "test_loss = dataset.evaluate(test_prediction, 'RMSE', data_type='test')\n",
    "print(f'RMSE: Train {train_loss:.3f}, test {test_loss:.3f}')"
   ]
  },
  {
   "cell_type": "code",
   "execution_count": 9,
   "metadata": {},
   "outputs": [
    {
     "name": "stdout",
     "output_type": "stream",
     "text": [
      "Seed is set to 0.\n",
      "{'RMSE': 0.04273472726345062}\n"
     ]
    }
   ],
   "source": [
    "# just evaluate using pipeline\n",
    "pipeline.evaluate(model=model, dataset=dataset, skip_if_executed=False)"
   ]
  }
 ],
 "metadata": {
  "kernelspec": {
   "display_name": "base",
   "language": "python",
   "name": "python3"
  },
  "language_info": {
   "codemirror_mode": {
    "name": "ipython",
    "version": 3
   },
   "file_extension": ".py",
   "mimetype": "text/x-python",
   "name": "python",
   "nbconvert_exporter": "python",
   "pygments_lexer": "ipython3",
   "version": "3.11.7"
  }
 },
 "nbformat": 4,
 "nbformat_minor": 2
}
